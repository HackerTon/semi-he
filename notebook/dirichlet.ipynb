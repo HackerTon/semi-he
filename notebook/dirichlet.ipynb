{
 "cells": [
  {
   "cell_type": "code",
   "execution_count": 2,
   "metadata": {},
   "outputs": [],
   "source": [
    "import torch\n",
    "from torchvision.io.image import read_image\n",
    "import matplotlib.pyplot as plt"
   ]
  },
  {
   "cell_type": "code",
   "execution_count": 2,
   "metadata": {},
   "outputs": [],
   "source": [
    "number = torch.rand([1, 3, 128, 128])"
   ]
  },
  {
   "cell_type": "code",
   "execution_count": null,
   "metadata": {},
   "outputs": [],
   "source": [
    "bernoulli_dist = torch.distributions.Bernoulli(0.5)\n",
    "bernoulli_dist.sample()"
   ]
  },
  {
   "cell_type": "code",
   "execution_count": null,
   "metadata": {},
   "outputs": [],
   "source": [
    "dirichlet_dist = torch.distributions.Dirichlet(torch.tensor([2.0, 2.0]))\n",
    "samples = dirichlet_dist.sample((1000,))\n",
    "# plt.hist2d(samples[:,0], samples[:,1])\n",
    "plt.hist2d(samples[:, 0], samples[:, 1])"
   ]
  },
  {
   "cell_type": "code",
   "execution_count": 52,
   "metadata": {},
   "outputs": [
    {
     "data": {
      "text/plain": [
       "tensor([10.0068,  9.2612])"
      ]
     },
     "execution_count": 52,
     "metadata": {},
     "output_type": "execute_result"
    }
   ],
   "source": [
    "torch.digamma(torch.tensor(100000)) - torch.digamma(torch.tensor([5, 10]))"
   ]
  },
  {
   "cell_type": "code",
   "execution_count": 208,
   "metadata": {},
   "outputs": [
    {
     "name": "stdout",
     "output_type": "stream",
     "text": [
      "tensor([21021])\n"
     ]
    },
    {
     "data": {
      "text/plain": [
       "tensor(28.4607)"
      ]
     },
     "execution_count": 208,
     "metadata": {},
     "output_type": "execute_result"
    }
   ],
   "source": [
    "def cross_entropy_dirichlet(prediction: torch.Tensor, target: torch.Tensor):\n",
    "    alpha = prediction + 1\n",
    "    diriclet_strength = alpha.sum(dim=1, keepdim=True)\n",
    "    return target * (torch.digamma(diriclet_strength) - torch.digamma(alpha))\n",
    "\n",
    "\n",
    "def KL_divergence_dirichlet(prediction: torch.Tensor, target: torch.Tensor):\n",
    "    alpha = prediction + 1\n",
    "    n_class = torch.tensor(prediction.size(1))\n",
    "    approx_alpha = target + (1 - target) * alpha\n",
    "\n",
    "    first_term = torch.lgamma(approx_alpha.sum(dim=1))\n",
    "    first_term -= torch.lgamma(n_class) + torch.lgamma(approx_alpha).sum(dim=1)\n",
    "    second_term = (\n",
    "        (approx_alpha - 1)\n",
    "        * (\n",
    "            torch.digamma(approx_alpha)\n",
    "            - torch.digamma(approx_alpha.sum(dim=1, keepdim=True))\n",
    "        )\n",
    "    ).sum(dim=1)\n",
    "    print(approx_alpha.prod(dim=1))\n",
    "    return first_term + second_term\n",
    "\n",
    "\n",
    "def overall_loss(\n",
    "    prediction: torch.Tensor,\n",
    "    target: torch.Tensor,\n",
    "    lambda_t: torch.Tensor,\n",
    "):\n",
    "    return cross_entropy_dirichlet(\n",
    "        prediction, target\n",
    "    ) + lambda_t * KL_divergence_dirichlet(\n",
    "        prediction,\n",
    "        target,\n",
    "    )\n",
    "\n",
    "\n",
    "prediction = torch.tensor([[1000, 1000, 20]])\n",
    "target = torch.tensor([[1, 0, 0]])\n",
    "overall_loss(prediction, target, torch.tensor(1)).sum()"
   ]
  },
  {
   "cell_type": "code",
   "execution_count": null,
   "metadata": {},
   "outputs": [],
   "source": []
  },
  {
   "cell_type": "code",
   "execution_count": null,
   "metadata": {},
   "outputs": [],
   "source": [
    "torch.digamma()"
   ]
  },
  {
   "cell_type": "code",
   "execution_count": 228,
   "metadata": {},
   "outputs": [
    {
     "name": "stdout",
     "output_type": "stream",
     "text": [
      "tensor([[[ 9.1247, 23.0307],\n",
      "         [16.1171, 16.5673]],\n",
      "\n",
      "        [[ 9.4902, 14.7805],\n",
      "         [14.5074,  9.5673]]])\n"
     ]
    }
   ],
   "source": [
    "prediction = torch.rand([2, 3, 2, 2]) * 10\n",
    "target = torch.zeros([2, 3, 2, 2])\n",
    "\n",
    "n_class = torch.tensor(prediction.size(1))\n",
    "approx_alpha = target + (1 - target) * prediction\n",
    "first_term = torch.log(\n",
    "    gamma(approx_alpha.sum(dim=1)) / (gamma(n_class) * gamma(approx_alpha).prod(dim=1))\n",
    ")\n",
    "\n",
    "second_term = (\n",
    "    (approx_alpha - 1)\n",
    "    * (\n",
    "        torch.digamma(approx_alpha)\n",
    "        - torch.digamma(approx_alpha.sum(dim=1, keepdim=True))\n",
    "    )\n",
    ").sum(dim=1)\n",
    "\n",
    "print(first_term)\n",
    "# print(second_term)\n",
    "# print(first_term + second_term)\n",
    "# KL_divergence_dirichlet(prediction, target).mean()"
   ]
  },
  {
   "cell_type": "code",
   "execution_count": null,
   "metadata": {},
   "outputs": [],
   "source": [
    "beta_dist = torch.distributions.Beta(2 + 1, 3 + 1)\n",
    "print(beta_dist.mean)\n",
    "\n",
    "beta_dist = torch.distributions.Beta(3 + 1, 2 + 1)\n",
    "print(beta_dist.mean)\n",
    "\n",
    "beta_dist = torch.distributions.Beta(4 + 1, 1 + 1)\n",
    "print(beta_dist.mean)"
   ]
  },
  {
   "cell_type": "code",
   "execution_count": null,
   "metadata": {},
   "outputs": [],
   "source": [
    "torch.digamma(torch.tensor(1.6))"
   ]
  }
 ],
 "metadata": {
  "kernelspec": {
   "display_name": "pytorch",
   "language": "python",
   "name": "python3"
  },
  "language_info": {
   "codemirror_mode": {
    "name": "ipython",
    "version": 3
   },
   "file_extension": ".py",
   "mimetype": "text/x-python",
   "name": "python",
   "nbconvert_exporter": "python",
   "pygments_lexer": "ipython3",
   "version": "3.12.3"
  }
 },
 "nbformat": 4,
 "nbformat_minor": 2
}
