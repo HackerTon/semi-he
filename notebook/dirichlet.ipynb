{
 "cells": [
  {
   "cell_type": "code",
   "execution_count": 1,
   "metadata": {},
   "outputs": [],
   "source": [
    "import torch\n",
    "import matplotlib.pyplot as plt"
   ]
  },
  {
   "cell_type": "code",
   "execution_count": null,
   "metadata": {},
   "outputs": [
    {
     "data": {
      "text/plain": [
       "torch.Size([2, 4, 4])"
      ]
     },
     "execution_count": 20,
     "metadata": {},
     "output_type": "execute_result"
    }
   ],
   "source": [
    "def cross_entropy_dirichlet(prediction: torch.Tensor, target: torch.Tensor):\n",
    "    alpha = prediction + 1\n",
    "    diriclet_strength = alpha.sum(dim=1, keepdim=True)\n",
    "    return (target * (torch.digamma(diriclet_strength) - torch.digamma(alpha))).sum(1)\n",
    "\n",
    "\n",
    "def mse_dirichlet(prediction: torch.Tensor, target: torch.Tensor):\n",
    "    return target.pow(2) - 2 * target * prediction + prediction.pow(2)\n",
    "\n",
    "\n",
    "def KL_divergence_dirichlet(prediction: torch.Tensor, target: torch.Tensor):\n",
    "    alpha = prediction + 1\n",
    "    n_class = torch.tensor(prediction.size(1))\n",
    "    approx_alpha = target + (1 - target) * alpha\n",
    "\n",
    "    first_term = torch.lgamma(approx_alpha.sum(dim=1))\n",
    "    first_term -= torch.lgamma(n_class) + torch.lgamma(approx_alpha).sum(dim=1)\n",
    "    second_term = (\n",
    "        (approx_alpha - 1)\n",
    "        * (\n",
    "            torch.digamma(approx_alpha)\n",
    "            - torch.digamma(approx_alpha.sum(dim=1, keepdim=True))\n",
    "        )\n",
    "    ).sum(dim=1)\n",
    "    return first_term + second_term\n",
    "\n",
    "\n",
    "def overall_loss(\n",
    "    prediction: torch.Tensor,\n",
    "    target: torch.Tensor,\n",
    "    lambda_t: torch.Tensor,\n",
    "):\n",
    "    prediction = prediction.relu()\n",
    "    loss = cross_entropy_dirichlet(prediction, target)\n",
    "    loss += lambda_t * KL_divergence_dirichlet(\n",
    "        prediction,\n",
    "        target,\n",
    "    )\n",
    "    return loss\n",
    "\n",
    "\n",
    "prediction = torch.ones([2, 3, 4, 4])\n",
    "target = torch.ones([2, 3, 4, 4])\n",
    "overall_loss(prediction, target, torch.tensor(1))\n",
    "\n",
    "# overall_loss(prediction, target).mean(dim=1).mean()"
   ]
  },
  {
   "cell_type": "code",
   "execution_count": 3,
   "metadata": {},
   "outputs": [
    {
     "data": {
      "text/plain": [
       "tensor([ 0.2029, -0.3967, -0.1321])"
      ]
     },
     "execution_count": 3,
     "metadata": {},
     "output_type": "execute_result"
    }
   ],
   "source": [
    "torch.randn([2, 3, 4, 4]).mean([0, 2, 3])"
   ]
  }
 ],
 "metadata": {
  "kernelspec": {
   "display_name": "pytorch",
   "language": "python",
   "name": "python3"
  },
  "language_info": {
   "codemirror_mode": {
    "name": "ipython",
    "version": 3
   },
   "file_extension": ".py",
   "mimetype": "text/x-python",
   "name": "python",
   "nbconvert_exporter": "python",
   "pygments_lexer": "ipython3",
   "version": "3.12.3"
  }
 },
 "nbformat": 4,
 "nbformat_minor": 2
}
