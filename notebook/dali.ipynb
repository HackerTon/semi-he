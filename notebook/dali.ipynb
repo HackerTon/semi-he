{
 "cells": [
  {
   "cell_type": "code",
   "execution_count": 1,
   "metadata": {},
   "outputs": [],
   "source": [
    "import numpy as np\n",
    "from nvidia.dali import pipeline_def, fn\n",
    "import torch"
   ]
  },
  {
   "cell_type": "code",
   "execution_count": null,
   "metadata": {},
   "outputs": [],
   "source": [
    "@pipeline_def(num_threads=4, batch_size=4, device_id=0)\n",
    "def pipe1():\n",
    "    data = fn.readers.numpy(device=\"gpu\", file_root=\"../\", file_filter=\"*.npy\")\n",
    "    return data\n",
    "\n",
    "\n",
    "pipe = pipe1()\n",
    "pipe.build()\n",
    "data = pipe.run()\n",
    "# pipe.release_outputs()"
   ]
  },
  {
   "cell_type": "code",
   "execution_count": 2,
   "metadata": {},
   "outputs": [],
   "source": [
    "random_tensor = torch.rand([128, 8, 1024, 1024], device=\"cuda\")\n",
    "np.save(\"../data.npy\", random_tensor.cpu())"
   ]
  }
 ],
 "metadata": {
  "kernelspec": {
   "display_name": "pytorch",
   "language": "python",
   "name": "python3"
  },
  "language_info": {
   "codemirror_mode": {
    "name": "ipython",
    "version": 3
   },
   "file_extension": ".py",
   "mimetype": "text/x-python",
   "name": "python",
   "nbconvert_exporter": "python",
   "pygments_lexer": "ipython3",
   "version": "3.12.3"
  }
 },
 "nbformat": 4,
 "nbformat_minor": 2
}
